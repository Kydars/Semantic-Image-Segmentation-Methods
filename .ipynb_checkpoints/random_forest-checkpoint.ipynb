{
 "cells": [
  {
   "cell_type": "markdown",
   "metadata": {},
   "source": [
    "Implementing our functions for feature extraction"
   ]
  },
  {
   "cell_type": "code",
   "execution_count": 2,
   "metadata": {},
   "outputs": [],
   "source": [
    "import cv2\n",
    "import numpy as np\n",
    "\n",
    "def extract_features(image):\n",
    "    # Convert to different color spaces\n",
    "    hsv = cv2.cvtColor(image, cv2.COLOR_BGR2HSV)\n",
    "    lab = cv2.cvtColor(image, cv2.COLOR_BGR2LAB)\n",
    "    \n",
    "    # Calculate gradients\n",
    "    gray = cv2.cvtColor(image, cv2.COLOR_BGR2GRAY)\n",
    "    gx = cv2.Sobel(gray, cv2.CV_32F, 1, 0, ksize=3)\n",
    "    gy = cv2.Sobel(gray, cv2.CV_32F, 0, 1, ksize=3)\n",
    "    grad_mag = np.sqrt(gx**2 + gy**2)\n",
    "    grad_dir = np.arctan2(gy, gx)\n",
    "    \n",
    "    # Combine features\n",
    "    features = np.concatenate([\n",
    "        image,  # BGR\n",
    "        hsv,    # HSV\n",
    "        lab,    # LAB\n",
    "        grad_mag[..., np.newaxis],  # Gradient magnitude\n",
    "        grad_dir[..., np.newaxis],  # Gradient direction\n",
    "    ], axis=2)\n",
    "    \n",
    "    return features\n",
    "\n",
    "def create_pixel_features(image, mask):\n",
    "    features = extract_features(image)\n",
    "    X = features.reshape(-1, features.shape[2])\n",
    "    mask = mask.reshape(-1,3)\n",
    "    y = np.apply_along_axis(lambda x: x[0], 1, mask)\n",
    "    \n",
    "    return X, y"
   ]
  },
  {
   "cell_type": "markdown",
   "metadata": {},
   "source": [
    "Creating our training and testing sets"
   ]
  },
  {
   "cell_type": "code",
   "execution_count": 5,
   "metadata": {},
   "outputs": [],
   "source": [
    "import os\n",
    "import numpy as np\n",
    "import cv2\n",
    "from sklearn.model_selection import train_test_split\n",
    "\n",
    "pathname = 'Dataset-small/data/WildScenes/WildScenes2d/V-01/'\n",
    "sample_size = 2\n",
    "\n",
    "X_all = []\n",
    "y_all = []\n",
    "\n",
    "for img_name in os.listdir(f'{pathname}image')[:sample_size]:\n",
    "    if ':' in img_name:\n",
    "        continue\n",
    "    img = np.asarray(cv2.imread(f'{pathname}/image/{img_name}'))\n",
    "    mask = np.asarray(cv2.imread(f'{pathname}/indexLabel/{img_name}'))\n",
    "    img, mask = create_pixel_features(img, mask)\n",
    "    X_all.append(img)\n",
    "    y_all.append(mask)\n",
    "\n",
    "X = np.vstack(X_all)\n",
    "y = np.concatenate(y_all)\n",
    "\n",
    "X_train, X_test, y_train, y_test = train_test_split(\n",
    "    X, y, test_size=0.25, random_state=42)"
   ]
  },
  {
   "cell_type": "code",
   "execution_count": 8,
   "metadata": {},
   "outputs": [
    {
     "name": "stdout",
     "output_type": "stream",
     "text": [
      "[array([ 8,  8,  8, ..., 18, 18, 18], dtype=uint8)]\n"
     ]
    }
   ],
   "source": [
    "print(y_all)"
   ]
  },
  {
   "cell_type": "markdown",
   "metadata": {},
   "source": [
    "Fitting the model"
   ]
  },
  {
   "cell_type": "code",
   "execution_count": 19,
   "metadata": {},
   "outputs": [
    {
     "data": {
      "text/html": [
       "<style>#sk-container-id-1 {color: black;}#sk-container-id-1 pre{padding: 0;}#sk-container-id-1 div.sk-toggleable {background-color: white;}#sk-container-id-1 label.sk-toggleable__label {cursor: pointer;display: block;width: 100%;margin-bottom: 0;padding: 0.3em;box-sizing: border-box;text-align: center;}#sk-container-id-1 label.sk-toggleable__label-arrow:before {content: \"▸\";float: left;margin-right: 0.25em;color: #696969;}#sk-container-id-1 label.sk-toggleable__label-arrow:hover:before {color: black;}#sk-container-id-1 div.sk-estimator:hover label.sk-toggleable__label-arrow:before {color: black;}#sk-container-id-1 div.sk-toggleable__content {max-height: 0;max-width: 0;overflow: hidden;text-align: left;background-color: #f0f8ff;}#sk-container-id-1 div.sk-toggleable__content pre {margin: 0.2em;color: black;border-radius: 0.25em;background-color: #f0f8ff;}#sk-container-id-1 input.sk-toggleable__control:checked~div.sk-toggleable__content {max-height: 200px;max-width: 100%;overflow: auto;}#sk-container-id-1 input.sk-toggleable__control:checked~label.sk-toggleable__label-arrow:before {content: \"▾\";}#sk-container-id-1 div.sk-estimator input.sk-toggleable__control:checked~label.sk-toggleable__label {background-color: #d4ebff;}#sk-container-id-1 div.sk-label input.sk-toggleable__control:checked~label.sk-toggleable__label {background-color: #d4ebff;}#sk-container-id-1 input.sk-hidden--visually {border: 0;clip: rect(1px 1px 1px 1px);clip: rect(1px, 1px, 1px, 1px);height: 1px;margin: -1px;overflow: hidden;padding: 0;position: absolute;width: 1px;}#sk-container-id-1 div.sk-estimator {font-family: monospace;background-color: #f0f8ff;border: 1px dotted black;border-radius: 0.25em;box-sizing: border-box;margin-bottom: 0.5em;}#sk-container-id-1 div.sk-estimator:hover {background-color: #d4ebff;}#sk-container-id-1 div.sk-parallel-item::after {content: \"\";width: 100%;border-bottom: 1px solid gray;flex-grow: 1;}#sk-container-id-1 div.sk-label:hover label.sk-toggleable__label {background-color: #d4ebff;}#sk-container-id-1 div.sk-serial::before {content: \"\";position: absolute;border-left: 1px solid gray;box-sizing: border-box;top: 0;bottom: 0;left: 50%;z-index: 0;}#sk-container-id-1 div.sk-serial {display: flex;flex-direction: column;align-items: center;background-color: white;padding-right: 0.2em;padding-left: 0.2em;position: relative;}#sk-container-id-1 div.sk-item {position: relative;z-index: 1;}#sk-container-id-1 div.sk-parallel {display: flex;align-items: stretch;justify-content: center;background-color: white;position: relative;}#sk-container-id-1 div.sk-item::before, #sk-container-id-1 div.sk-parallel-item::before {content: \"\";position: absolute;border-left: 1px solid gray;box-sizing: border-box;top: 0;bottom: 0;left: 50%;z-index: -1;}#sk-container-id-1 div.sk-parallel-item {display: flex;flex-direction: column;z-index: 1;position: relative;background-color: white;}#sk-container-id-1 div.sk-parallel-item:first-child::after {align-self: flex-end;width: 50%;}#sk-container-id-1 div.sk-parallel-item:last-child::after {align-self: flex-start;width: 50%;}#sk-container-id-1 div.sk-parallel-item:only-child::after {width: 0;}#sk-container-id-1 div.sk-dashed-wrapped {border: 1px dashed gray;margin: 0 0.4em 0.5em 0.4em;box-sizing: border-box;padding-bottom: 0.4em;background-color: white;}#sk-container-id-1 div.sk-label label {font-family: monospace;font-weight: bold;display: inline-block;line-height: 1.2em;}#sk-container-id-1 div.sk-label-container {text-align: center;}#sk-container-id-1 div.sk-container {/* jupyter's `normalize.less` sets `[hidden] { display: none; }` but bootstrap.min.css set `[hidden] { display: none !important; }` so we also need the `!important` here to be able to override the default hidden behavior on the sphinx rendered scikit-learn.org. See: https://github.com/scikit-learn/scikit-learn/issues/21755 */display: inline-block !important;position: relative;}#sk-container-id-1 div.sk-text-repr-fallback {display: none;}</style><div id=\"sk-container-id-1\" class=\"sk-top-container\"><div class=\"sk-text-repr-fallback\"><pre>RandomForestClassifier(n_estimators=3, random_state=42)</pre><b>In a Jupyter environment, please rerun this cell to show the HTML representation or trust the notebook. <br />On GitHub, the HTML representation is unable to render, please try loading this page with nbviewer.org.</b></div><div class=\"sk-container\" hidden><div class=\"sk-item\"><div class=\"sk-estimator sk-toggleable\"><input class=\"sk-toggleable__control sk-hidden--visually\" id=\"sk-estimator-id-1\" type=\"checkbox\" checked><label for=\"sk-estimator-id-1\" class=\"sk-toggleable__label sk-toggleable__label-arrow\">RandomForestClassifier</label><div class=\"sk-toggleable__content\"><pre>RandomForestClassifier(n_estimators=3, random_state=42)</pre></div></div></div></div></div>"
      ],
      "text/plain": [
       "RandomForestClassifier(n_estimators=3, random_state=42)"
      ]
     },
     "execution_count": 19,
     "metadata": {},
     "output_type": "execute_result"
    }
   ],
   "source": [
    "from sklearn.ensemble import RandomForestClassifier\n",
    "\n",
    "rf = RandomForestClassifier(n_estimators=3, random_state=42)\n",
    "rf.fit(X_train, y_train)"
   ]
  },
  {
   "cell_type": "markdown",
   "metadata": {},
   "source": [
    "Gathering model predictions"
   ]
  },
  {
   "cell_type": "code",
   "execution_count": 20,
   "metadata": {},
   "outputs": [],
   "source": [
    "y_pred = rf.predict(X_test)"
   ]
  },
  {
   "cell_type": "markdown",
   "metadata": {},
   "source": [
    "Model evaluation using IOU"
   ]
  },
  {
   "cell_type": "code",
   "execution_count": 21,
   "metadata": {},
   "outputs": [
    {
     "name": "stdout",
     "output_type": "stream",
     "text": [
      "IoU for each class: [0.         0.         0.05903959 0.         0.         0.\n",
      " 0.         0.1624937  0.40541934 0.         0.         0.\n",
      " 0.         0.         0.        ]\n",
      "Mean IoU: 0.20898421096833797\n"
     ]
    }
   ],
   "source": [
    "import numpy as np\n",
    "\n",
    "def calculate_iou(pred_mask, true_mask, num_classes):\n",
    "    \"\"\"\n",
    "    Calculate IoU for each class and mean IoU using vectorized operations.\n",
    "    \n",
    "    :param pred_mask: Predicted segmentation mask\n",
    "    :param true_mask: Ground truth segmentation mask\n",
    "    :param num_classes: Number of classes in the segmentation task\n",
    "    :return: IoU for each class and mean IoU\n",
    "    \"\"\"\n",
    "    pred_mask = pred_mask.flatten()\n",
    "    true_mask = true_mask.flatten()\n",
    "    \n",
    "    # Create one-hot encoded masks\n",
    "    pred_one_hot = (np.arange(num_classes) == pred_mask[:, None]).astype(int)\n",
    "    true_one_hot = (np.arange(num_classes) == true_mask[:, None]).astype(int)\n",
    "    \n",
    "    # Calculate intersection and union\n",
    "    intersection = np.logical_and(pred_one_hot, true_one_hot).sum(axis=0)\n",
    "    union = np.logical_or(pred_one_hot, true_one_hot).sum(axis=0)\n",
    "    \n",
    "    # Calculate IoU for each class\n",
    "    iou = np.divide(intersection, union, out=np.zeros_like(intersection, dtype=float), where=union != 0)\n",
    "    \n",
    "    mean_iou = np.mean(iou)\n",
    "    return iou, mean_iou\n",
    "\n",
    "def evaluate_segmentation(pred_masks, true_masks, num_classes):\n",
    "    \"\"\"\n",
    "    Evaluate segmentation performance over a set of images using vectorized operations.\n",
    "    \n",
    "    :param pred_masks: List of predicted segmentation masks\n",
    "    :param true_masks: List of ground truth segmentation masks\n",
    "    :param num_classes: Number of classes in the segmentation task\n",
    "    :return: Mean IoU for each class and overall mean IoU\n",
    "    \"\"\"\n",
    "    all_ious = np.array([calculate_iou(pred, true, num_classes)[0] for pred, true in zip(pred_masks, true_masks)])\n",
    "    \n",
    "    mean_ious = np.mean(all_ious, axis=0)\n",
    "    overall_mean_iou = np.mean(mean_ious[mean_ious != 0])\n",
    "    \n",
    "    return mean_ious, overall_mean_iou\n",
    "\n",
    "num_classes = 15\n",
    "class_ious, mean_iou = evaluate_segmentation(y_pred, y_test, num_classes)\n",
    "\n",
    "print(\"IoU for each class:\", class_ious)\n",
    "print(\"Mean IoU:\", mean_iou)"
   ]
  }
 ],
 "metadata": {
  "kernelspec": {
   "display_name": "Python 3",
   "language": "python",
   "name": "python3"
  },
  "language_info": {
   "codemirror_mode": {
    "name": "ipython",
    "version": 3
   },
   "file_extension": ".py",
   "mimetype": "text/x-python",
   "name": "python",
   "nbconvert_exporter": "python",
   "pygments_lexer": "ipython3",
   "version": "3.10.12"
  }
 },
 "nbformat": 4,
 "nbformat_minor": 2
}
